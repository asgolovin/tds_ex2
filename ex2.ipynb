{
 "cells": [
  {
   "cell_type": "markdown",
   "metadata": {},
   "source": [
    "# Topics in Dynamical Systems\n",
    "## Exercise 2"
   ]
  },
  {
   "cell_type": "code",
   "execution_count": 1,
   "metadata": {},
   "outputs": [],
   "source": [
    "using LinearAlgebra\n",
    "using GLMakie"
   ]
  },
  {
   "cell_type": "markdown",
   "metadata": {},
   "source": [
    "### Question 1: deterministic case"
   ]
  },
  {
   "cell_type": "markdown",
   "metadata": {},
   "source": [
    "Deterministic bifurcation diagram for the SODE\n",
    "$$x' = qx - x^3 + \\sigma W'$$"
   ]
  },
  {
   "cell_type": "code",
   "execution_count": 11,
   "metadata": {},
   "outputs": [],
   "source": [
    "qneg = range(-1, 0, length=100)\n",
    "qpos = range(0, 1, length=100)\n",
    "fig_bf = Figure()\n",
    "ax_bf = Axis(fig_bf[1, 1], xlabel=L\"q\", ylabel=L\"x*\", xlabelsize=26, ylabelsize=26, limits = (-1, 1, -1, 1))\n",
    "lines!(ax_bf, qneg, zeros(100), color = :blue, linestyle=:solid)\n",
    "lines!(ax_bf, qpos, zeros(100), color = :blue, linestyle=:dash)\n",
    "lines!(ax_bf, qpos, sqrt.(qpos), color = :orange, linestyle=:solid)\n",
    "lines!(ax_bf, qpos, -sqrt.(qpos), color = :orange, linestyle=:solid)\n",
    "fig_bf"
   ]
  },
  {
   "cell_type": "markdown",
   "metadata": {},
   "source": [
    "### Question 2: Fokker-Plank equation"
   ]
  },
  {
   "cell_type": "markdown",
   "metadata": {},
   "source": [
    "Fokker-Plank equation:\n",
    "$$\\partial_t \\rho = \\frac{1}{2}\\sigma^2 \\partial^2_x \\rho - \\partial_x ((qx - x^3) \\rho)$$\n",
    "\n",
    "First, discretize the space with forward finite differences and zero Dirichlet boundary conditions:\n",
    "\n",
    "$$\\partial_t \\rho_k(t) = \\frac{1}{2} \\sigma^2 \\frac{\\rho_{k-1}(t) - 2 \\rho_{k}(t) + \\rho_{k+1}(t)}{\\Delta x^2} - \\frac{(qx_{k+1} - x_{k+1}^3) \\rho_{k+1}(t) - (q x_k - x_k^3) \\rho_{k}(t)}{\\Delta x} $$"
   ]
  },
  {
   "cell_type": "markdown",
   "metadata": {},
   "source": [
    "We obtain a multi-dimensional ODE. The $x^3$-term makes the ODE super stiff, and if we try to solve it with an explicit method, it will explode even at tiny time steps. The remedy is to use an implicit method, for example, implicit Euler:\n",
    "\n",
    "$$\\frac{\\rho_{t+1, k} - \\rho_{t, k}}{\\Delta t} = \\frac{1}{2} \\sigma^2 \\frac{\\rho_{t+1, k-1} - 2 \\rho_{t+1, k} + \\rho_{t+1, k+1}}{\\Delta x^2} - \\frac{(qx_{k+1} - x_{k+1}^3) \\rho_{t+1, k+1}- (q x_k - x_k^3) \\rho_{t+1, k}}{\\Delta x} $$"
   ]
  },
  {
   "cell_type": "markdown",
   "metadata": {},
   "source": [
    "Bring all $t+1$ terms to the left and all $t$ terms to the right:\n",
    "$$%\\rho_{t+1, k} = \\rho_{t, k} + \\Delta t \\left( \\frac{1}{2} \\sigma^2 \\frac{\\rho_{t, k-1} - 2 \\rho_{t, k} + \\rho_{t, k+1}}{\\Delta x^2} - \\frac{(qx_{k+1} - x_{k+1}^3) \\rho_{t, k+1} - (q x_k - x_k^3) \\rho_{t, k}}{\\Delta x} \\right)$$\n",
    "\n",
    "$$\\rho_{t+1, k} - \\frac{1}{2} \\sigma^2 \\frac{\\Delta t}{\\Delta x^2} \\left( \\rho_{t+1, k-1} - 2 \\rho_{t+1, k} + \\rho_{t+1, k+1}\\right) + \\frac{\\Delta t}{\\Delta x} \\left((qx_{k+1} - x_{k+1}^3) \\rho_{t+1, k+1}- (q x_k - x_k^3) \\rho_{t+1, k}\\right) = \\rho_{t, k}$$\n",
    "\n",
    "$$A \\bm{\\rho}_{t+1} = \\bm{\\rho}_t$$"
   ]
  },
  {
   "cell_type": "markdown",
   "metadata": {},
   "source": [
    "we get a linear equation for $\\bm{\\rho}_{t+1}$ where matrix $A$ is tridiagonal with the stencil\n",
    "\n",
    "$$\n",
    "\\begin{bmatrix}\n",
    "- \\frac{1}{2}\\sigma^2 \\frac{\\Delta t}{\\Delta x^2} &\n",
    "1 + \\sigma^2 \\frac{\\Delta t}{\\Delta x^2} - \\frac{\\Delta t}{\\Delta x} (q x_k - x_k^3) &\n",
    "- \\frac{1}{2}\\sigma^2 \\frac{\\Delta t}{\\Delta x^2} + \\frac{\\Delta t}{\\Delta x} (q x_{k+1} - x_{k+1}^3)\n",
    "\\end{bmatrix}\n",
    "$$\n"
   ]
  },
  {
   "cell_type": "markdown",
   "metadata": {},
   "source": [
    "#### Simulation"
   ]
  },
  {
   "cell_type": "markdown",
   "metadata": {},
   "source": [
    "Define the parameters:"
   ]
  },
  {
   "cell_type": "code",
   "execution_count": 21,
   "metadata": {},
   "outputs": [],
   "source": [
    "L = 10   # x-interval x ∈ [-L, L]\n",
    "Δx = 0.001\n",
    "Δt = 0.001\n",
    "xs = -L:Δx:L\n",
    "xinner = xs[2:end-1]\n",
    "sigma = 1\n",
    "N = length(xs)  # number of points in x\n",
    "num_steps = 50000    # max number of time steps\n",
    "buffer = 100;     # number of steps between updating the visualization\n",
    "rho = Observable(zeros(N));"
   ]
  },
  {
   "cell_type": "markdown",
   "metadata": {},
   "source": [
    "Create the plot:"
   ]
  },
  {
   "cell_type": "code",
   "execution_count": 22,
   "metadata": {},
   "outputs": [
    {
     "data": {
      "text/plain": [
       "GLMakie.Screen(...)"
      ]
     },
     "metadata": {},
     "output_type": "display_data"
    }
   ],
   "source": [
    "fig = Figure()\n",
    "ax = Axis(fig[1, 1], \n",
    "          xlabel = L\"x\",\n",
    "          xlabelsize=20,\n",
    "          ylabel = L\"probability density $\\rho(t, x)$\",\n",
    "          ylabelsize=20,\n",
    "          xautolimitmargin=(0.0, 0.0))\n",
    "\n",
    "# plot the solution of the pde\n",
    "lines!(ax, xs, rho)\n",
    "autolimits!(ax)\n",
    "\n",
    "# add some interactivity\n",
    "# slider for q\n",
    "slider_params = (range = -1.:0.01:1., label=\"q\", startvalue=-1.)\n",
    "sg = SliderGrid(fig[2, 1], slider_params)\n",
    "q = lift(q -> q, sg.sliders[1].value)\n",
    "\n",
    "# button to stop the simulation\n",
    "isrunning = Observable(false)\n",
    "button = Button(fig[3, 1], label=\"Play\", tellwidth=false)\n",
    "on(button.clicks) do clicks\n",
    "    isrunning[] = !isrunning[]\n",
    "    button.label = isrunning[] ? \"Pause\" : \"Play\"\n",
    "end\n",
    "on(button.clicks) do clicks\n",
    "    @async while isrunning[]\n",
    "        # stop the computations if the figure is closed\n",
    "        if !isopen(fig.scene)\n",
    "            break\n",
    "        end\n",
    "        step!(rho, A, isrunning)\n",
    "        autolimits!(ax)\n",
    "    end\n",
    "end\n",
    "\n",
    "# plot the stable points as dashed lines\n",
    "stable_points = @lift $q > 0 ? [sqrt($q), -sqrt($q)] : [0., ]\n",
    "vlines!(ax, stable_points, color=:red, linestyle=:dash)\n",
    "\n",
    "display(fig)"
   ]
  },
  {
   "cell_type": "markdown",
   "metadata": {},
   "source": [
    "Stamp the matrix: "
   ]
  },
  {
   "cell_type": "code",
   "execution_count": 23,
   "metadata": {},
   "outputs": [],
   "source": [
    "A = lift(q) do q\n",
    "    lower_diag = - 0.5 * sigma^2 * Δt / Δx^2 * ones(N - 3)\n",
    "    main_diag = @. 1 + sigma^2 * Δt / Δx^2 - Δt / Δx * (q[] * xinner - xinner^3)\n",
    "    upper_diag = @. - 0.5 * sigma^2 * Δt / Δx^2 + Δt / Δx * (q[] * xinner[2:end] - xinner[2:end]^3)\n",
    "    Tridiagonal(lower_diag, main_diag, upper_diag)\n",
    "end;"
   ]
  },
  {
   "cell_type": "markdown",
   "metadata": {},
   "source": [
    "Set the initial condition to some distribution:"
   ]
  },
  {
   "cell_type": "code",
   "execution_count": 24,
   "metadata": {},
   "outputs": [
    {
     "data": {
      "text/plain": [
       "0.0"
      ]
     },
     "metadata": {},
     "output_type": "display_data"
    }
   ],
   "source": [
    "# uniform distribution in the interval -0.5:0.5\n",
    "box(x) = abs(x) > 0.5 ? 0. : 1.\n",
    "\n",
    "# uniform distribution in the interval -L:L\n",
    "uniform(x) = 1/(2*L) \n",
    "\n",
    "# normal distribution with mean μ and std σ\n",
    "normal(x; μ=0, σ=1) = 1/sqrt(2π)/σ * exp(-0.5 * (x - μ)^2/σ^2);\n",
    "\n",
    "# set up the initial condition ρ(0, x) = ρ0(x)\n",
    "#rho[] = normal.(xs; μ=1.5, σ=0.1)\n",
    "#rho[] = box.(xs)\n",
    "rho[] = uniform.(xs)\n",
    "rho[][1] = 0.\n",
    "rho[][end] = 0."
   ]
  },
  {
   "cell_type": "markdown",
   "metadata": {},
   "source": [
    "Run the simulation"
   ]
  },
  {
   "cell_type": "code",
   "execution_count": 25,
   "metadata": {},
   "outputs": [
    {
     "data": {
      "text/plain": [
       "step! (generic function with 1 method)"
      ]
     },
     "metadata": {},
     "output_type": "display_data"
    }
   ],
   "source": [
    "function step!(rho, A, isrunning)\n",
    "    rho_buffer = rho[][2:end-1]\n",
    "    for i in 1:buffer\n",
    "        rho_buffer = A[] \\ rho_buffer\n",
    "    end\n",
    "    rho[][2:end-1] = rho_buffer\n",
    "    notify(rho)\n",
    "    # abort if the system becomes unstable\n",
    "    if maximum(rho_buffer) > 100\n",
    "        println(\"Max value has exceeded the threshold. Panic! 😱\")\n",
    "        isrunning[] = false\n",
    "    end\n",
    "    sleep(0.001)\n",
    "end"
   ]
  },
  {
   "cell_type": "code",
   "execution_count": null,
   "metadata": {},
   "outputs": [],
   "source": []
  }
 ],
 "metadata": {
  "kernelspec": {
   "display_name": "Julia 1.8.1",
   "language": "julia",
   "name": "julia-1.8"
  },
  "language_info": {
   "file_extension": ".jl",
   "mimetype": "application/julia",
   "name": "julia",
   "version": "1.8.1"
  },
  "orig_nbformat": 4
 },
 "nbformat": 4,
 "nbformat_minor": 2
}
